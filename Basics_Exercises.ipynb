{
 "cells": [
  {
   "cell_type": "code",
   "execution_count": 51,
   "metadata": {},
   "outputs": [
    {
     "name": "stdout",
     "output_type": "stream",
     "text": [
      "Pierre\n"
     ]
    }
   ],
   "source": [
    "my_name = \"Pierre\"\n",
    "print (my_name)\n",
    "\n"
   ]
  },
  {
   "cell_type": "code",
   "execution_count": 52,
   "metadata": {},
   "outputs": [
    {
     "name": "stdout",
     "output_type": "stream",
     "text": [
      "34\n"
     ]
    }
   ],
   "source": [
    "age_pierre = 34\n",
    "print(age_pierre)"
   ]
  },
  {
   "cell_type": "code",
   "execution_count": 53,
   "metadata": {},
   "outputs": [
    {
     "name": "stdout",
     "output_type": "stream",
     "text": [
      "2\n"
     ]
    }
   ],
   "source": [
    "age_julia = 32\n",
    "age_diff=age_pierre - age_julia \n",
    "print(age_diff)"
   ]
  },
  {
   "cell_type": "code",
   "execution_count": 54,
   "metadata": {},
   "outputs": [
    {
     "name": "stdout",
     "output_type": "stream",
     "text": [
      "You are older than 21\n"
     ]
    }
   ],
   "source": [
    "if age_pierre > 21:\n",
    "    print (\"You are older than 21\") \n",
    "else:\n",
    "    print(\"You are not older than 21\")\n"
   ]
  },
  {
   "cell_type": "code",
   "execution_count": 55,
   "metadata": {},
   "outputs": [
    {
     "name": "stdout",
     "output_type": "stream",
     "text": [
      "Julia is younger than you\n"
     ]
    }
   ],
   "source": [
    "if age_pierre < age_julia:\n",
    "    print (\"Julia is older than you \")\n",
    "elif age_pierre == age_julia:\n",
    "    print (\"You have the same age as Julia\")\n",
    "else:\n",
    "    print(\"Julia is younger than you\")"
   ]
  },
  {
   "cell_type": "markdown",
   "metadata": {},
   "source": [
    "Ex 6 - List "
   ]
  },
  {
   "cell_type": "code",
   "execution_count": 56,
   "metadata": {},
   "outputs": [
    {
     "data": {
      "text/plain": [
       "8"
      ]
     },
     "execution_count": 56,
     "metadata": {},
     "output_type": "execute_result"
    }
   ],
   "source": [
    "class_list = [\"Gabi\", \"Pierre\", \"Andrés\", \"Oti\", \"Lucas\", \"Patricia\", \"Muayad\", \"Killian\"]\n",
    "len(class_list)"
   ]
  },
  {
   "cell_type": "code",
   "execution_count": 57,
   "metadata": {},
   "outputs": [
    {
     "name": "stdout",
     "output_type": "stream",
     "text": [
      "['Andrés', 'Gabi', 'Killian', 'Lucas', 'Muayad', 'Oti', 'Patricia', 'Pierre']\n"
     ]
    }
   ],
   "source": [
    "class_list.sort()\n",
    "print (class_list)\n"
   ]
  },
  {
   "cell_type": "code",
   "execution_count": 58,
   "metadata": {},
   "outputs": [
    {
     "data": {
      "text/plain": [
       "'Andrés'"
      ]
     },
     "execution_count": 58,
     "metadata": {},
     "output_type": "execute_result"
    }
   ],
   "source": [
    "class_list [0]"
   ]
  },
  {
   "cell_type": "code",
   "execution_count": 59,
   "metadata": {},
   "outputs": [
    {
     "data": {
      "text/plain": [
       "'Pierre'"
      ]
     },
     "execution_count": 59,
     "metadata": {},
     "output_type": "execute_result"
    }
   ],
   "source": [
    "class_list[-1]"
   ]
  },
  {
   "cell_type": "code",
   "execution_count": 60,
   "metadata": {},
   "outputs": [
    {
     "name": "stdout",
     "output_type": "stream",
     "text": [
      "Andrés\n",
      "Gabi\n",
      "Killian\n",
      "Lucas\n",
      "Muayad\n",
      "Oti\n",
      "Patricia\n",
      "Pierre\n"
     ]
    }
   ],
   "source": [
    "for name in class_list:\n",
    "    print (name)"
   ]
  },
  {
   "cell_type": "code",
   "execution_count": 61,
   "metadata": {},
   "outputs": [
    {
     "name": "stdout",
     "output_type": "stream",
     "text": [
      "[21, 24, 34, 40, 33, 45, 22, 33]\n"
     ]
    }
   ],
   "source": [
    "age_andres = 21\n",
    "age_gabi = 24\n",
    "age_oti = 22\n",
    "age_lucas = 33\n",
    "age_patricia = 45\n",
    "age_muayad = 33\n",
    "age_killian = 40\n",
    "\n",
    "class_age = [age_andres, age_gabi, age_pierre, age_killian, age_lucas, age_patricia, age_oti, age_muayad]\n",
    "print(class_age)"
   ]
  },
  {
   "cell_type": "code",
   "execution_count": null,
   "metadata": {},
   "outputs": [],
   "source": []
  },
  {
   "cell_type": "code",
   "execution_count": 62,
   "metadata": {},
   "outputs": [
    {
     "name": "stdout",
     "output_type": "stream",
     "text": [
      "[21, 22, 24, 33, 33, 34, 40, 45]\n"
     ]
    }
   ],
   "source": [
    "class_age.sort()\n",
    "print(class_age)"
   ]
  },
  {
   "cell_type": "code",
   "execution_count": 63,
   "metadata": {},
   "outputs": [
    {
     "name": "stdout",
     "output_type": "stream",
     "text": [
      "21\n",
      "22\n",
      "24\n",
      "33\n",
      "33\n",
      "34\n",
      "40\n",
      "45\n"
     ]
    }
   ],
   "source": [
    "for age in class_age:\n",
    "    print (age)"
   ]
  },
  {
   "cell_type": "code",
   "execution_count": 64,
   "metadata": {},
   "outputs": [
    {
     "name": "stdout",
     "output_type": "stream",
     "text": [
      "22\n",
      "24\n",
      "34\n",
      "40\n"
     ]
    }
   ],
   "source": [
    "for age in class_age:\n",
    "    if age % 2 ==0:\n",
    "        print (age)"
   ]
  },
  {
   "cell_type": "code",
   "execution_count": 65,
   "metadata": {},
   "outputs": [
    {
     "name": "stdout",
     "output_type": "stream",
     "text": [
      "22\n",
      "24\n",
      "34\n",
      "40\n"
     ]
    }
   ],
   "source": [
    "age = 0\n",
    "\n",
    "while age < len (class_age):\n",
    "    if class_age[age] % 2 == 0:\n",
    "        print(class_age[age])\n",
    "    age += 1 "
   ]
  },
  {
   "cell_type": "code",
   "execution_count": 66,
   "metadata": {},
   "outputs": [],
   "source": [
    "number_list = [34, 65, 369, 10, 200]"
   ]
  },
  {
   "cell_type": "code",
   "execution_count": 67,
   "metadata": {},
   "outputs": [
    {
     "name": "stdout",
     "output_type": "stream",
     "text": [
      "10\n"
     ]
    }
   ],
   "source": [
    "lowest_number = min(number_list)\n",
    "print(lowest_number)"
   ]
  },
  {
   "cell_type": "code",
   "execution_count": 68,
   "metadata": {},
   "outputs": [
    {
     "name": "stdout",
     "output_type": "stream",
     "text": [
      "369\n"
     ]
    }
   ],
   "source": [
    "highest_number = max(number_list)\n",
    "print(highest_number)"
   ]
  },
  {
   "cell_type": "markdown",
   "metadata": {},
   "source": [
    "Exercise 10"
   ]
  },
  {
   "cell_type": "code",
   "execution_count": 69,
   "metadata": {},
   "outputs": [
    {
     "name": "stdout",
     "output_type": "stream",
     "text": [
      "[1979, 1994, 1995, 1996, 1999, 2005, 2006, 2007, 2008, 2010]\n"
     ]
    }
   ],
   "source": [
    "birthyear_customers = [1999, 1995, 2005, 2010, 2007, 2006, 1994, 1996, 1979, 2008]\n",
    "\n",
    "birthyear_customers.sort()\n",
    "print (birthyear_customers)"
   ]
  },
  {
   "cell_type": "code",
   "execution_count": 70,
   "metadata": {},
   "outputs": [
    {
     "name": "stdout",
     "output_type": "stream",
     "text": [
      "1979\n",
      "1994\n",
      "1995\n",
      "1996\n",
      "1999\n",
      "2005\n",
      "2006\n",
      "2007\n",
      "2008\n",
      "2010\n"
     ]
    }
   ],
   "source": [
    "for year in birthyear_customers:\n",
    "    print(year)"
   ]
  },
  {
   "cell_type": "code",
   "execution_count": 71,
   "metadata": {},
   "outputs": [
    {
     "name": "stdout",
     "output_type": "stream",
     "text": [
      "45\n",
      "30\n",
      "29\n",
      "28\n",
      "25\n",
      "19\n",
      "18\n",
      "17\n",
      "16\n",
      "14\n"
     ]
    }
   ],
   "source": [
    "current_year = 2024\n",
    "\n",
    "for year in birthyear_customers:\n",
    "    age = current_year - year\n",
    "    print (age)"
   ]
  },
  {
   "cell_type": "markdown",
   "metadata": {},
   "source": [
    "Exercise 11"
   ]
  },
  {
   "cell_type": "code",
   "execution_count": 72,
   "metadata": {},
   "outputs": [],
   "source": [
    "customer_list = [\n",
    "                    {\"name\": \"Bob\", \"age\": 1999},\n",
    "                    {\"name\": \"Jack\", \"age\": 1995},\n",
    "                    {\"name\": \"Lisa\", \"age\": 2005},\n",
    "                    {\"name\": \"Maria\", \"age\": 2010},\n",
    "                    {\"name\": \"Ben\", \"age\": 2007},\n",
    "                    {\"name\": \"Emma\", \"age\": 2006},\n",
    "                    {\"name\": \"Oscar\", \"age\": 1994},\n",
    "                    {\"name\": \"Amy\", \"age\": 1996},\n",
    "                    {\"name\": \"Paul\", \"age\": 1979},\n",
    "                    {\"name\": \"Etta\", \"age\": 2008}\n",
    "                ]"
   ]
  },
  {
   "cell_type": "code",
   "execution_count": 73,
   "metadata": {},
   "outputs": [
    {
     "data": {
      "text/plain": [
       "'Jack'"
      ]
     },
     "execution_count": 73,
     "metadata": {},
     "output_type": "execute_result"
    }
   ],
   "source": [
    "d = {\"name\": [\"Bob\",\"Jack\" ,\"Lisa\"], \"age\": 1999}\n",
    "d[\"name\"][1]"
   ]
  },
  {
   "cell_type": "code",
   "execution_count": 74,
   "metadata": {},
   "outputs": [
    {
     "ename": "SyntaxError",
     "evalue": "invalid syntax (2591121620.py, line 1)",
     "output_type": "error",
     "traceback": [
      "\u001b[0;36m  Cell \u001b[0;32mIn[74], line 1\u001b[0;36m\u001b[0m\n\u001b[0;31m    customer_list[0][\"age\"][]\u001b[0m\n\u001b[0m                            ^\u001b[0m\n\u001b[0;31mSyntaxError\u001b[0m\u001b[0;31m:\u001b[0m invalid syntax\n"
     ]
    }
   ],
   "source": [
    "customer_list[0][\"age\"][]"
   ]
  },
  {
   "cell_type": "code",
   "execution_count": null,
   "metadata": {},
   "outputs": [],
   "source": []
  },
  {
   "cell_type": "code",
   "execution_count": null,
   "metadata": {},
   "outputs": [],
   "source": []
  },
  {
   "cell_type": "code",
   "execution_count": null,
   "metadata": {},
   "outputs": [
    {
     "data": {
      "text/plain": [
       "10"
      ]
     },
     "execution_count": 264,
     "metadata": {},
     "output_type": "execute_result"
    }
   ],
   "source": [
    "len(customer_list)"
   ]
  },
  {
   "cell_type": "code",
   "execution_count": null,
   "metadata": {},
   "outputs": [
    {
     "name": "stdout",
     "output_type": "stream",
     "text": [
      "{'name': 'Bob', 'age': 1999}\n",
      "{'name': 'Jack', 'age': 1995}\n",
      "{'name': 'Lisa', 'age': 2005}\n",
      "{'name': 'Maria', 'age': 2010}\n",
      "{'name': 'Ben', 'age': 2007}\n",
      "{'name': 'Emma', 'age': 2006}\n",
      "{'name': 'Oscar', 'age': 1994}\n",
      "{'name': 'Amy', 'age': 1996}\n",
      "{'name': 'Paul', 'age': 1979}\n",
      "{'name': 'Etta', 'age': 2008}\n"
     ]
    }
   ],
   "source": [
    "for item in customer_list:\n",
    "    print(item)"
   ]
  },
  {
   "cell_type": "code",
   "execution_count": null,
   "metadata": {},
   "outputs": [
    {
     "name": "stdout",
     "output_type": "stream",
     "text": [
      "Bob 1999\n",
      "Jack 1995\n",
      "Lisa 2005\n",
      "Maria 2010\n",
      "Ben 2007\n",
      "Emma 2006\n",
      "Oscar 1994\n",
      "Amy 1996\n",
      "Paul 1979\n",
      "Etta 2008\n"
     ]
    }
   ],
   "source": [
    "for customer in customer_list:\n",
    "    print(customer[\"name\"], customer[\"age\"])"
   ]
  },
  {
   "cell_type": "code",
   "execution_count": null,
   "metadata": {},
   "outputs": [
    {
     "name": "stdout",
     "output_type": "stream",
     "text": [
      "Bob 25\n",
      "Jack 29\n",
      "Lisa 19\n",
      "Maria 14\n",
      "Ben 17\n",
      "Emma 18\n",
      "Oscar 30\n",
      "Amy 28\n",
      "Paul 45\n",
      "Etta 16\n"
     ]
    }
   ],
   "source": [
    "current_year = 2024\n",
    "\n",
    "for customer in customer_list:\n",
    "    age = current_year - customer[\"age\"]\n",
    "    print(customer[\"name\"], age)\n"
   ]
  },
  {
   "cell_type": "code",
   "execution_count": null,
   "metadata": {},
   "outputs": [
    {
     "name": "stdout",
     "output_type": "stream",
     "text": [
      "Bob is 16 years old.\n",
      "Jack is 16 years old.\n",
      "Lisa is 16 years old.\n",
      "Maria is 16 years old.\n",
      "Ben is 16 years old.\n",
      "Emma is 16 years old.\n",
      "Oscar is 16 years old.\n",
      "Amy is 16 years old.\n",
      "Paul is 16 years old.\n",
      "Etta is 16 years old.\n"
     ]
    }
   ],
   "source": [
    "for customer in customer_list:\n",
    "    print (customer[\"name\"] , \"is\" , age , \"years old.\")"
   ]
  },
  {
   "cell_type": "markdown",
   "metadata": {},
   "source": [
    "Exercise 12:"
   ]
  },
  {
   "cell_type": "code",
   "execution_count": 75,
   "metadata": {},
   "outputs": [],
   "source": [
    "ages = [20, 24, 14, 9, 12, 13, 25, 23, 40, 11]"
   ]
  },
  {
   "cell_type": "markdown",
   "metadata": {},
   "source": [
    "First method keeping the order of items "
   ]
  },
  {
   "cell_type": "code",
   "execution_count": 76,
   "metadata": {},
   "outputs": [],
   "source": [
    "# Initialize smallest and largest with the first element\n",
    "smallest = largest = ages[0]\n",
    "\n",
    "# Find the smallest and largest values in the list\n",
    "for age in ages:\n",
    "    if age < smallest:\n",
    "        smallest = age\n",
    "    if age > largest:\n",
    "        largest = age\n",
    "\n",
    "# Remove the smallest and largest values from the list\n",
    "ages.remove(smallest)\n",
    "ages.remove(largest)"
   ]
  },
  {
   "cell_type": "code",
   "execution_count": null,
   "metadata": {},
   "outputs": [
    {
     "name": "stdout",
     "output_type": "stream",
     "text": [
      "[20, 24, 14, 12, 13, 25, 23, 11]\n"
     ]
    }
   ],
   "source": [
    "print(ages)"
   ]
  },
  {
   "cell_type": "markdown",
   "metadata": {},
   "source": []
  },
  {
   "cell_type": "markdown",
   "metadata": {},
   "source": [
    "Second Method "
   ]
  },
  {
   "cell_type": "code",
   "execution_count": null,
   "metadata": {},
   "outputs": [
    {
     "name": "stdout",
     "output_type": "stream",
     "text": [
      "[9, 11, 12, 13, 14, 20, 23, 24, 25, 40]\n"
     ]
    }
   ],
   "source": [
    "ages.sort()\n",
    "print(ages)"
   ]
  },
  {
   "cell_type": "code",
   "execution_count": null,
   "metadata": {},
   "outputs": [
    {
     "name": "stdout",
     "output_type": "stream",
     "text": [
      "[11, 12, 13, 14, 20, 23, 24, 25]\n"
     ]
    }
   ],
   "source": [
    "ages.pop(0)\n",
    "ages.pop(-1)\n",
    "print(ages)"
   ]
  },
  {
   "cell_type": "markdown",
   "metadata": {},
   "source": [
    "Exercise 13"
   ]
  },
  {
   "cell_type": "code",
   "execution_count": null,
   "metadata": {},
   "outputs": [
    {
     "name": "stdout",
     "output_type": "stream",
     "text": [
      "[15, 13, 16, 18, 19, 10]\n"
     ]
    }
   ],
   "source": [
    "berlin = [15, 13, 16, 18, 19, 10, 12 ]\n",
    "munich = [7, 13, 15, 20, 19, 18, 10, 16]\n",
    "\n",
    "common_ages = [age for age in berlin if age in munich]\n",
    "print (common_ages)"
   ]
  },
  {
   "cell_type": "code",
   "execution_count": null,
   "metadata": {},
   "outputs": [
    {
     "name": "stdout",
     "output_type": "stream",
     "text": [
      "[10, 13, 15, 16, 18, 19]\n"
     ]
    }
   ],
   "source": [
    "common_ages.sort()\n",
    "print(common_ages)"
   ]
  },
  {
   "cell_type": "markdown",
   "metadata": {},
   "source": [
    "Exercise 14"
   ]
  },
  {
   "cell_type": "code",
   "execution_count": null,
   "metadata": {},
   "outputs": [
    {
     "name": "stdout",
     "output_type": "stream",
     "text": [
      "[10, 13, 15, 16, 18, 19]\n"
     ]
    }
   ],
   "source": [
    "age_list = [15,13,16,18,19,15,10]\n",
    "\n",
    "filtered_list = set(age_list)\n",
    "# set(age_list): Converts age_list into a set. A set is another built-in data type in Python, similar to a list, \n",
    "# but it is unordered and cannot contain duplicate elements. \n",
    "#By converting the list into a set, any duplicate ages are removed.\n",
    "\n",
    "print(filtered_list)"
   ]
  },
  {
   "cell_type": "code",
   "execution_count": null,
   "metadata": {},
   "outputs": [
    {
     "name": "stdout",
     "output_type": "stream",
     "text": [
      "[15, 13, 16, 18, 19, 10]\n"
     ]
    }
   ],
   "source": [
    "age_list = [15,13,16,18,19,15,10]\n",
    "\n",
    "filtered_list = []\n",
    "\n",
    "for item in age_list:\n",
    "    if item not in filtered_list:\n",
    "        filtered_list.append(item)\n",
    "print(filtered_list)"
   ]
  },
  {
   "cell_type": "markdown",
   "metadata": {},
   "source": [
    "Exercise 15"
   ]
  },
  {
   "cell_type": "code",
   "execution_count": null,
   "metadata": {},
   "outputs": [],
   "source": [
    "def welcome (name):\n",
    "    print (\"Welcome\", (name), \"have a nice day!\")"
   ]
  },
  {
   "cell_type": "code",
   "execution_count": null,
   "metadata": {},
   "outputs": [
    {
     "name": "stdout",
     "output_type": "stream",
     "text": [
      "Welcome Evelyn have a nice day!\n"
     ]
    }
   ],
   "source": [
    "welcome(\"Evelyn\")"
   ]
  },
  {
   "cell_type": "code",
   "execution_count": null,
   "metadata": {},
   "outputs": [
    {
     "name": "stdout",
     "output_type": "stream",
     "text": [
      "Welcome Jost have a nice day!\n"
     ]
    }
   ],
   "source": [
    "welcome(\"Jost\")"
   ]
  },
  {
   "cell_type": "markdown",
   "metadata": {},
   "source": [
    "Exercise 16"
   ]
  },
  {
   "cell_type": "code",
   "execution_count": null,
   "metadata": {},
   "outputs": [],
   "source": [
    "def get_length (item):\n",
    "    return len(item)"
   ]
  },
  {
   "cell_type": "code",
   "execution_count": null,
   "metadata": {},
   "outputs": [
    {
     "data": {
      "text/plain": [
       "5"
      ]
     },
     "execution_count": 343,
     "metadata": {},
     "output_type": "execute_result"
    }
   ],
   "source": [
    "get_length ('Hello')"
   ]
  },
  {
   "cell_type": "code",
   "execution_count": null,
   "metadata": {},
   "outputs": [
    {
     "data": {
      "text/plain": [
       "2"
      ]
     },
     "execution_count": 342,
     "metadata": {},
     "output_type": "execute_result"
    }
   ],
   "source": [
    "get_length('Hi')"
   ]
  },
  {
   "cell_type": "code",
   "execution_count": null,
   "metadata": {},
   "outputs": [
    {
     "name": "stdout",
     "output_type": "stream",
     "text": [
      "6\n"
     ]
    }
   ],
   "source": [
    "name = (\"Pierre\")\n",
    "print(len(name))"
   ]
  },
  {
   "cell_type": "markdown",
   "metadata": {},
   "source": [
    "Exercise 17"
   ]
  },
  {
   "cell_type": "code",
   "execution_count": null,
   "metadata": {},
   "outputs": [],
   "source": [
    "def check_even(item):\n",
    "    if item %2==0:\n",
    "        print(\"Yes\")\n",
    "    else: \n",
    "        print(\"No\")"
   ]
  },
  {
   "cell_type": "code",
   "execution_count": null,
   "metadata": {},
   "outputs": [
    {
     "name": "stdout",
     "output_type": "stream",
     "text": [
      "Yes\n"
     ]
    }
   ],
   "source": [
    "check_even(2)"
   ]
  },
  {
   "cell_type": "code",
   "execution_count": null,
   "metadata": {},
   "outputs": [
    {
     "name": "stdout",
     "output_type": "stream",
     "text": [
      "No\n"
     ]
    }
   ],
   "source": [
    "check_even(5)"
   ]
  },
  {
   "cell_type": "markdown",
   "metadata": {},
   "source": [
    "Exercise 11 with function "
   ]
  },
  {
   "cell_type": "code",
   "execution_count": null,
   "metadata": {},
   "outputs": [],
   "source": [
    "customer_list = [\n",
    "                    {\"name\": \"Bob\", \"age\": 1999},\n",
    "                    {\"name\": \"Jack\", \"age\": 1995},\n",
    "                    {\"name\": \"Lisa\", \"age\": 2005},\n",
    "                    {\"name\": \"Maria\", \"age\": 2010},\n",
    "                    {\"name\": \"Ben\", \"age\": 2007},\n",
    "                    {\"name\": \"Emma\", \"age\": 2006},\n",
    "                    {\"name\": \"Oscar\", \"age\": 1994},\n",
    "                    {\"name\": \"Amy\", \"age\": 1996},\n",
    "                    {\"name\": \"Paul\", \"age\": 1979},\n",
    "                    {\"name\": \"Etta\", \"age\": 2008}\n",
    "                ]"
   ]
  },
  {
   "cell_type": "code",
   "execution_count": null,
   "metadata": {},
   "outputs": [
    {
     "name": "stdout",
     "output_type": "stream",
     "text": [
      "Bob is 25 years old.\n",
      "Jack is 29 years old.\n",
      "Lisa is 19 years old.\n",
      "Maria is 14 years old.\n",
      "Ben is 17 years old.\n",
      "Emma is 18 years old.\n",
      "Oscar is 30 years old.\n",
      "Amy is 28 years old.\n",
      "Paul is 45 years old.\n",
      "Etta is 16 years old.\n"
     ]
    }
   ],
   "source": [
    "def cleaned_list (customer):\n",
    "    for customer in customer_list:\n",
    "        print(customer[\"name\"],\"is\", customer[\"age\"])\n",
    "current_year = 2024\n",
    "\n",
    "for customer in customer_list:\n",
    "    age = current_year - customer[\"age\"]\n",
    "    print (customer[\"name\"] , \"is\" , age , \"years old.\")"
   ]
  },
  {
   "cell_type": "code",
   "execution_count": null,
   "metadata": {},
   "outputs": [
    {
     "name": "stdout",
     "output_type": "stream",
     "text": [
      "Bob is 1999\n",
      "Jack is 1995\n",
      "Lisa is 2005\n",
      "Maria is 2010\n",
      "Ben is 2007\n",
      "Emma is 2006\n",
      "Oscar is 1994\n",
      "Amy is 1996\n",
      "Paul is 1979\n",
      "Etta is 2008\n"
     ]
    }
   ],
   "source": [
    "cleaned_list (customer)"
   ]
  },
  {
   "cell_type": "markdown",
   "metadata": {},
   "source": [
    "Exercise birthday"
   ]
  },
  {
   "cell_type": "code",
   "execution_count": null,
   "metadata": {},
   "outputs": [],
   "source": [
    "def best_wishes (name):\n",
    "    print (\"Happy Birthday\", (name), \"Love you <3\")\n"
   ]
  },
  {
   "cell_type": "code",
   "execution_count": null,
   "metadata": {},
   "outputs": [
    {
     "name": "stdout",
     "output_type": "stream",
     "text": [
      "Happy Birthday Bartosz, Love you <3\n"
     ]
    }
   ],
   "source": [
    "best_wishes (\"Bartosz,\")"
   ]
  },
  {
   "cell_type": "code",
   "execution_count": null,
   "metadata": {},
   "outputs": [],
   "source": [
    "Exercise 12"
   ]
  },
  {
   "cell_type": "code",
   "execution_count": null,
   "metadata": {},
   "outputs": [],
   "source": [
    "ages = [20, 24, 14, 9, 12, 13, 25, 23, 40, 11]\n",
    "\n",
    "\n",
    "def ages_removed (name):\n",
    "    smallest = largest = name[0]\n",
    "    \n",
    "    for x in name:\n",
    "        if x < smallest:\n",
    "            smallest = x\n",
    "        if x > largest:\n",
    "            largest = x\n",
    "        \n",
    "    name.remove(smallest)\n",
    "    name.remove(largest)\n",
    "    return name \n"
   ]
  },
  {
   "cell_type": "code",
   "execution_count": null,
   "metadata": {},
   "outputs": [
    {
     "data": {
      "text/plain": [
       "[20, 24, 14, 12, 13, 25, 23, 11]"
      ]
     },
     "execution_count": 473,
     "metadata": {},
     "output_type": "execute_result"
    }
   ],
   "source": [
    "ages_removed (ages)"
   ]
  },
  {
   "cell_type": "markdown",
   "metadata": {},
   "source": [
    "Exercise 13"
   ]
  },
  {
   "cell_type": "code",
   "execution_count": null,
   "metadata": {},
   "outputs": [],
   "source": [
    "berlin = [15, 13, 16, 18, 19, 10, 12 ]\n",
    "munich = [7, 13, 15, 20, 19, 18, 10, 16]\n",
    "\n",
    "def common_ages_1 (list_1, list_2):\n",
    "    result=[]\n",
    "    for age in list_1:\n",
    "     if age in list_2:\n",
    "       result.append(age)\n",
    "    return result"
   ]
  },
  {
   "cell_type": "code",
   "execution_count": null,
   "metadata": {},
   "outputs": [
    {
     "data": {
      "text/plain": [
       "[15, 13, 16, 18, 19, 10]"
      ]
     },
     "execution_count": 513,
     "metadata": {},
     "output_type": "execute_result"
    }
   ],
   "source": [
    "common_ages_1(berlin, munich)"
   ]
  },
  {
   "cell_type": "code",
   "execution_count": null,
   "metadata": {},
   "outputs": [],
   "source": [
    "def common_age_2 (list_1, list_2):\n",
    "    return [age for age in list_1 if age in list_2]\n"
   ]
  },
  {
   "cell_type": "code",
   "execution_count": null,
   "metadata": {},
   "outputs": [
    {
     "data": {
      "text/plain": [
       "[15, 13, 16, 18, 19, 10]"
      ]
     },
     "execution_count": 501,
     "metadata": {},
     "output_type": "execute_result"
    }
   ],
   "source": [
    "common_age_2(berlin, munich)"
   ]
  },
  {
   "cell_type": "markdown",
   "metadata": {},
   "source": [
    "Exercise 14"
   ]
  },
  {
   "cell_type": "code",
   "execution_count": null,
   "metadata": {},
   "outputs": [],
   "source": [
    "age_list = [15,13,16,18,19,15,10]\n",
    "\n",
    "def filtered_list (no_duplicate_list):\n",
    "    return (set(no_duplicate_list))\n",
    "    "
   ]
  },
  {
   "cell_type": "code",
   "execution_count": null,
   "metadata": {},
   "outputs": [
    {
     "data": {
      "text/plain": [
       "{10, 13, 15, 16, 18, 19}"
      ]
     },
     "execution_count": 531,
     "metadata": {},
     "output_type": "execute_result"
    }
   ],
   "source": [
    "filtered_list(age_list)"
   ]
  },
  {
   "cell_type": "markdown",
   "metadata": {},
   "source": [
    "Méthode 2"
   ]
  },
  {
   "cell_type": "code",
   "execution_count": null,
   "metadata": {},
   "outputs": [],
   "source": [
    "age_list = [15,13,16,18,19,15,10]\n",
    "\n",
    "def filtered_list (no_duplicate_list):\n",
    "    result = []\n",
    "    for age in no_duplicate_list:\n",
    "        if age not in result:\n",
    "            result.append(age)\n",
    "    return result\n",
    "        "
   ]
  },
  {
   "cell_type": "code",
   "execution_count": null,
   "metadata": {},
   "outputs": [
    {
     "data": {
      "text/plain": [
       "[15, 13, 16, 18, 19, 10]"
      ]
     },
     "execution_count": 3,
     "metadata": {},
     "output_type": "execute_result"
    }
   ],
   "source": [
    "filtered_list(age_list)"
   ]
  },
  {
   "cell_type": "markdown",
   "metadata": {},
   "source": [
    "Exercise 19"
   ]
  },
  {
   "cell_type": "code",
   "execution_count": null,
   "metadata": {},
   "outputs": [],
   "source": [
    "list_of_age = (13, 15, 17, 19, 21, 50)\n",
    "\n",
    "def age_checking (num):\n",
    "    if num in list_of_age:\n",
    "        print (\"True\")\n",
    "    else:\n",
    "        print (\"False\")"
   ]
  },
  {
   "cell_type": "code",
   "execution_count": null,
   "metadata": {},
   "outputs": [
    {
     "name": "stdout",
     "output_type": "stream",
     "text": [
      "True\n"
     ]
    }
   ],
   "source": [
    "age_checking(13)"
   ]
  },
  {
   "cell_type": "code",
   "execution_count": null,
   "metadata": {},
   "outputs": [],
   "source": [
    "list_of_age = (13, 15, 17, 19, 21, 50)\n",
    "\n",
    "\n",
    "def age_checking ():\n",
    "    num = int(input(\"Please, enter a number\"))\n",
    "    if num in list_of_age:\n",
    "        print (\"True\")\n",
    "    else:\n",
    "        print (\"False\")"
   ]
  },
  {
   "cell_type": "code",
   "execution_count": null,
   "metadata": {},
   "outputs": [
    {
     "name": "stdout",
     "output_type": "stream",
     "text": [
      "True\n"
     ]
    }
   ],
   "source": [
    "age_checking()"
   ]
  },
  {
   "cell_type": "markdown",
   "metadata": {},
   "source": [
    "Exercise Extra beginner ChocoBury\n"
   ]
  },
  {
   "cell_type": "code",
   "execution_count": null,
   "metadata": {},
   "outputs": [],
   "source": [
    "Q1"
   ]
  },
  {
   "cell_type": "code",
   "execution_count": null,
   "metadata": {},
   "outputs": [],
   "source": [
    "list_9 = [1999,1995, 2005, 2010, 2007, 2006, 1994, 1996, 1979, 2008]\n",
    "\n",
    "\n",
    "\n",
    "def list_with_age (x):\n",
    "    result = []\n",
    "    current_year = 2024\n",
    "    for num in x:\n",
    "        age=current_year-num \n",
    "        result.append(age)\n",
    "    return result"
   ]
  },
  {
   "cell_type": "code",
   "execution_count": null,
   "metadata": {},
   "outputs": [
    {
     "data": {
      "text/plain": [
       "[25, 29, 19, 14, 17, 18, 30, 28, 45, 16]"
      ]
     },
     "execution_count": 191,
     "metadata": {},
     "output_type": "execute_result"
    }
   ],
   "source": [
    "list_with_age (list_9)"
   ]
  },
  {
   "cell_type": "code",
   "execution_count": null,
   "metadata": {},
   "outputs": [],
   "source": [
    "def list_with_age (list_9):\n",
    "    current_year = 2024\n",
    "    return [current_year - year for year in list_9]"
   ]
  },
  {
   "cell_type": "code",
   "execution_count": null,
   "metadata": {},
   "outputs": [
    {
     "data": {
      "text/plain": [
       "[25, 29, 19, 14, 17, 18, 30, 28, 45, 16]"
      ]
     },
     "execution_count": 193,
     "metadata": {},
     "output_type": "execute_result"
    }
   ],
   "source": [
    "list_with_age (list_9)"
   ]
  },
  {
   "cell_type": "markdown",
   "metadata": {},
   "source": [
    "Q2"
   ]
  },
  {
   "cell_type": "code",
   "execution_count": null,
   "metadata": {},
   "outputs": [],
   "source": [
    "def ages_removed(list_with_age):\n",
    "    smallest = largest = list_with_age[0]\n",
    "    \n",
    "    for x in list_with_age:\n",
    "        if x < smallest:\n",
    "            smallest = x\n",
    "        if x > largest:\n",
    "            largest = x\n",
    "        \n",
    "    list_with_age.remove(smallest)\n",
    "    list_with_age.remove(largest)\n",
    "    return list_with_age"
   ]
  },
  {
   "cell_type": "code",
   "execution_count": null,
   "metadata": {},
   "outputs": [
    {
     "data": {
      "text/plain": [
       "[25, 29, 19, 17, 18, 30, 28, 16]"
      ]
     },
     "execution_count": 202,
     "metadata": {},
     "output_type": "execute_result"
    }
   ],
   "source": [
    "ages_removed(list_with_age(list_9))"
   ]
  },
  {
   "cell_type": "markdown",
   "metadata": {},
   "source": [
    "Q3"
   ]
  },
  {
   "cell_type": "code",
   "execution_count": null,
   "metadata": {},
   "outputs": [],
   "source": [
    "berlin = [15, 13, 16, 18, 19, 10, 12 ]\n",
    "munich = [7, 13, 15, 20, 19, 18, 10, 16]\n",
    "\n",
    "def common_list (berlin, munich):\n",
    "    result=[]\n",
    "    for age in berlin:\n",
    "     if age in munich:\n",
    "       result.append(age)\n",
    "    return result\n",
    "    "
   ]
  },
  {
   "cell_type": "code",
   "execution_count": null,
   "metadata": {},
   "outputs": [
    {
     "data": {
      "text/plain": [
       "[15, 13, 16, 18, 19, 10]"
      ]
     },
     "execution_count": 208,
     "metadata": {},
     "output_type": "execute_result"
    }
   ],
   "source": [
    "common_list(berlin, munich)"
   ]
  },
  {
   "cell_type": "markdown",
   "metadata": {},
   "source": [
    "Q4 "
   ]
  },
  {
   "cell_type": "markdown",
   "metadata": {},
   "source": [
    "Méthode 1: set "
   ]
  },
  {
   "cell_type": "code",
   "execution_count": null,
   "metadata": {},
   "outputs": [],
   "source": [
    "list_7 = [15,13,16,18,19,15,10]\n",
    "\n",
    "def no_duplicate (list_7):\n",
    "    return set(list_7) \n"
   ]
  },
  {
   "cell_type": "code",
   "execution_count": null,
   "metadata": {},
   "outputs": [
    {
     "data": {
      "text/plain": [
       "{10, 13, 15, 16, 18, 19}"
      ]
     },
     "execution_count": 210,
     "metadata": {},
     "output_type": "execute_result"
    }
   ],
   "source": [
    "no_duplicate (list_7)"
   ]
  },
  {
   "cell_type": "markdown",
   "metadata": {},
   "source": [
    "Méthode 2 en partant d'une liste vide "
   ]
  },
  {
   "cell_type": "code",
   "execution_count": null,
   "metadata": {},
   "outputs": [],
   "source": [
    "def no_duplicate_2 (list_7):\n",
    "    result = []\n",
    "    for item in list_7:\n",
    "        if item not in result:\n",
    "            result.append(item)\n",
    "    return result"
   ]
  },
  {
   "cell_type": "code",
   "execution_count": null,
   "metadata": {},
   "outputs": [
    {
     "data": {
      "text/plain": [
       "[15, 13, 16, 18, 19, 10]"
      ]
     },
     "execution_count": 212,
     "metadata": {},
     "output_type": "execute_result"
    }
   ],
   "source": [
    "no_duplicate_2(list_7)"
   ]
  },
  {
   "cell_type": "markdown",
   "metadata": {},
   "source": [
    "Q5 !!!!!!!!!!"
   ]
  },
  {
   "cell_type": "code",
   "execution_count": null,
   "metadata": {},
   "outputs": [],
   "source": [
    "list_henry = (15,13,16,18,19,15,10)\n",
    "\n",
    "def age_control (x):\n",
    "    num = int(input (\"Enter age, please\"))\n",
    "    if num in x:\n",
    "        print (\"True\")\n",
    "    else: \n",
    "        print (\"False\") "
   ]
  },
  {
   "cell_type": "code",
   "execution_count": null,
   "metadata": {},
   "outputs": [
    {
     "name": "stdout",
     "output_type": "stream",
     "text": [
      "True\n"
     ]
    }
   ],
   "source": [
    "age_control(list_henry)"
   ]
  },
  {
   "cell_type": "markdown",
   "metadata": {},
   "source": [
    "Exercise extra\n",
    "\n",
    "Set 1"
   ]
  },
  {
   "cell_type": "code",
   "execution_count": null,
   "metadata": {},
   "outputs": [
    {
     "ename": "TypeError",
     "evalue": "'builtin_function_or_method' object is not subscriptable",
     "output_type": "error",
     "traceback": [
      "\u001b[0;31m---------------------------------------------------------------------------\u001b[0m",
      "\u001b[0;31mTypeError\u001b[0m                                 Traceback (most recent call last)",
      "\u001b[1;32m/Users/pierreloyal/Desktop/Bootcamp CA/Python/exercises.ipynb Cellule 113\u001b[0m line \u001b[0;36m5\n\u001b[1;32m      <a href='vscode-notebook-cell:/Users/pierreloyal/Desktop/Bootcamp%20CA/Python/exercises.ipynb#Y224sZmlsZQ%3D%3D?line=2'>3</a>\u001b[0m \u001b[39mwhile\u001b[39;00m age \u001b[39m<\u001b[39m \u001b[39mlen\u001b[39m (list_set1):\n\u001b[1;32m      <a href='vscode-notebook-cell:/Users/pierreloyal/Desktop/Bootcamp%20CA/Python/exercises.ipynb#Y224sZmlsZQ%3D%3D?line=3'>4</a>\u001b[0m     \u001b[39mif\u001b[39;00m list_set1[age] \u001b[39m%\u001b[39m \u001b[39m2\u001b[39m \u001b[39m==\u001b[39m \u001b[39m0\u001b[39m:\n\u001b[0;32m----> <a href='vscode-notebook-cell:/Users/pierreloyal/Desktop/Bootcamp%20CA/Python/exercises.ipynb#Y224sZmlsZQ%3D%3D?line=4'>5</a>\u001b[0m         list_set1\u001b[39m.\u001b[39;49mappend[age]\n\u001b[1;32m      <a href='vscode-notebook-cell:/Users/pierreloyal/Desktop/Bootcamp%20CA/Python/exercises.ipynb#Y224sZmlsZQ%3D%3D?line=5'>6</a>\u001b[0m         \u001b[39mprint\u001b[39m(list_set1[age])\n\u001b[1;32m      <a href='vscode-notebook-cell:/Users/pierreloyal/Desktop/Bootcamp%20CA/Python/exercises.ipynb#Y224sZmlsZQ%3D%3D?line=6'>7</a>\u001b[0m     age \u001b[39m+\u001b[39m\u001b[39m=\u001b[39m \u001b[39m1\u001b[39m \n",
      "\u001b[0;31mTypeError\u001b[0m: 'builtin_function_or_method' object is not subscriptable"
     ]
    }
   ],
   "source": [
    "list_set1 = [2, 6, 8, 9, 10]\n",
    "age=0\n",
    "while age < len (list_set1):\n",
    "    if list_set1[age] % 2 == 0:\n",
    "        list_set1.append[age]\n",
    "        print(list_set1[age])\n",
    "    age += 1 "
   ]
  },
  {
   "cell_type": "code",
   "execution_count": null,
   "metadata": {},
   "outputs": [],
   "source": [
    "list_set1 = [2, 6, 8, 9, 10]\n",
    "list_set2 = [1, 3, 5, 7, 8]\n",
    "\n",
    "\n",
    "def num_removed (any_list):\n",
    "    new_list = []\n",
    "    for intruder in any_list:\n",
    "        if intruder  % 2 == 0:\n",
    "    intruder = any_list[0]\n",
    "\n",
    "    \n",
    "    for x in any_list:\n",
    "        if x % 2 == 0: \n",
    "            intruder = x\n",
    "        elif x % 2 == 1:\n",
    "            intruder = x\n",
    "        \n",
    "    new_list.append(intruder)\n",
    "    return new_list"
   ]
  },
  {
   "cell_type": "code",
   "execution_count": 86,
   "metadata": {},
   "outputs": [],
   "source": [
    "list_set1 = [2, 6, 8, 9, 10]\n",
    "list_set2 = [1, 3, 5, 7, 8]\n",
    "def num_removed(list_set1, intruder):\n",
    "    if intruder in list_set1:\n",
    "        print(intruder)  \n",
    "        list_set1.remove(intruder) \n",
    "    else:\n",
    "        print(\"No intruder found.\")\n",
    "    return list_set1"
   ]
  },
  {
   "cell_type": "code",
   "execution_count": 88,
   "metadata": {},
   "outputs": [
    {
     "name": "stdout",
     "output_type": "stream",
     "text": [
      "9\n"
     ]
    },
    {
     "data": {
      "text/plain": [
       "[2, 6, 8, 10]"
      ]
     },
     "execution_count": 88,
     "metadata": {},
     "output_type": "execute_result"
    }
   ],
   "source": [
    "num_removed(list_set1, 9)"
   ]
  },
  {
   "cell_type": "code",
   "execution_count": 87,
   "metadata": {},
   "outputs": [
    {
     "name": "stdout",
     "output_type": "stream",
     "text": [
      "8\n"
     ]
    },
    {
     "data": {
      "text/plain": [
       "[1, 3, 5, 7]"
      ]
     },
     "execution_count": 87,
     "metadata": {},
     "output_type": "execute_result"
    }
   ],
   "source": [
    "num_removed(list_set2, 8)"
   ]
  },
  {
   "cell_type": "code",
   "execution_count": 90,
   "metadata": {},
   "outputs": [],
   "source": [
    "list_set1 = [2, 6, 8, 9, 10]\n",
    "list_set2 = [1, 3, 5, 7, 8]\n",
    "\n",
    "def num_removed (any_list):\n",
    "    odd_list = []\n",
    "    even_list = []\n",
    "    for x in any_list:\n",
    "        if x % 2 != 0:\n",
    "            odd_list.append(x)\n",
    "        elif x % 2 == 0:\n",
    "            even_list.append(x)\n",
    "    if len(odd_list) <=1:\n",
    "        return odd_list[0]\n",
    "    else:\n",
    "        return even_list[0]\n",
    "        "
   ]
  },
  {
   "cell_type": "code",
   "execution_count": 91,
   "metadata": {},
   "outputs": [
    {
     "data": {
      "text/plain": [
       "9"
      ]
     },
     "execution_count": 91,
     "metadata": {},
     "output_type": "execute_result"
    }
   ],
   "source": [
    "num_removed (list_set1)"
   ]
  },
  {
   "cell_type": "code",
   "execution_count": 92,
   "metadata": {},
   "outputs": [
    {
     "data": {
      "text/plain": [
       "8"
      ]
     },
     "execution_count": 92,
     "metadata": {},
     "output_type": "execute_result"
    }
   ],
   "source": [
    "num_removed (list_set2)"
   ]
  },
  {
   "cell_type": "code",
   "execution_count": 99,
   "metadata": {},
   "outputs": [],
   "source": [
    "\n",
    "list_set1 = [2, 6, 8, 9, 10]\n",
    "list_set2 = [1, 3, 5, 7, 8]\n",
    "\n",
    "def num_removed(list_set1):\n",
    "    even_count = sum(1 for num in list_set1 if num % 2 == 0)\n",
    "    odd_count = len(list_set1) - even_count\n",
    "    \n",
    "    if even_count < odd_count:\n",
    "        return [num for num in list_set1 if num % 2 == 0]\n",
    "    else:\n",
    "        return [num for num in list_set1 if num % 2 != 0]"
   ]
  },
  {
   "cell_type": "code",
   "execution_count": 100,
   "metadata": {},
   "outputs": [
    {
     "data": {
      "text/plain": [
       "[8]"
      ]
     },
     "execution_count": 100,
     "metadata": {},
     "output_type": "execute_result"
    }
   ],
   "source": [
    "num_removed(list_set2)"
   ]
  },
  {
   "cell_type": "code",
   "execution_count": 96,
   "metadata": {},
   "outputs": [
    {
     "data": {
      "text/plain": [
       "[2, 6, 8, 10]"
      ]
     },
     "execution_count": 96,
     "metadata": {},
     "output_type": "execute_result"
    }
   ],
   "source": [
    "num_removed(list_set1)"
   ]
  }
 ],
 "metadata": {
  "kernelspec": {
   "display_name": "Python 3",
   "language": "python",
   "name": "python3"
  },
  "language_info": {
   "codemirror_mode": {
    "name": "ipython",
    "version": 3
   },
   "file_extension": ".py",
   "mimetype": "text/x-python",
   "name": "python",
   "nbconvert_exporter": "python",
   "pygments_lexer": "ipython3",
   "version": "3.12.1"
  }
 },
 "nbformat": 4,
 "nbformat_minor": 2
}
